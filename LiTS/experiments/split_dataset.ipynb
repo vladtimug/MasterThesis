{
 "cells": [
  {
   "attachments": {},
   "cell_type": "markdown",
   "metadata": {},
   "source": [
    "## Notebook Context\n",
    "## Goal - Perform train, validation and test splits from the available annotated data. Do this on a per scan volume basis.\n",
    "## Data - Extracted scan volume slices to individual directories from <a>http://medicaldecathlon.com/</a>. One directory per scan volume containing all the slices from the scan volume"
   ]
  },
  {
   "cell_type": "code",
   "execution_count": 1,
   "metadata": {},
   "outputs": [],
   "source": [
    "import os\n",
    "import shutil\n",
    "import glob\n",
    "import random"
   ]
  },
  {
   "attachments": {},
   "cell_type": "markdown",
   "metadata": {},
   "source": [
    "## Compute number of scan volumes for each dataset split"
   ]
  },
  {
   "cell_type": "code",
   "execution_count": 2,
   "metadata": {},
   "outputs": [],
   "source": [
    "total_scan_volumes = glob.glob(\"../data/train/images/liver*\")\n",
    "total_annotated_volumes = glob.glob(\"../data/train/labels/liver*\")"
   ]
  },
  {
   "cell_type": "code",
   "execution_count": 4,
   "metadata": {},
   "outputs": [
    {
     "name": "stdout",
     "output_type": "stream",
     "text": [
      "Available volumes count - 131\n",
      "Train volumes count - 91\n",
      "Validation volumes count - 20\n",
      "Test volumes count - 20\n",
      "131\n"
     ]
    }
   ],
   "source": [
    "available_volumes_count = len(total_scan_volumes)\n",
    "\n",
    "train_volumes_percentage = 0.70\n",
    "validation_volumes_percentage = 0.15\n",
    "test_volumes_percentage = 0.15\n",
    "\n",
    "train_volumes_count = int(available_volumes_count * train_volumes_percentage)\n",
    "\n",
    "validation_volumes_count = int(round(available_volumes_count * validation_volumes_percentage))\n",
    "\n",
    "test_volumes_count = int(round(available_volumes_count * test_volumes_percentage))\n",
    "\n",
    "print(f\"Available volumes count - {available_volumes_count}\")\n",
    "print(f\"Train volumes count - {train_volumes_count}\")\n",
    "print(f\"Validation volumes count - {validation_volumes_count}\")\n",
    "print(f\"Test volumes count - {test_volumes_count}\")\n",
    "print(train_volumes_count + validation_volumes_count + test_volumes_count)"
   ]
  },
  {
   "cell_type": "code",
   "execution_count": 7,
   "metadata": {},
   "outputs": [
    {
     "name": "stdout",
     "output_type": "stream",
     "text": [
      "../data/train/images/liver_78\n"
     ]
    }
   ],
   "source": [
    "print(total_scan_volumes[0])"
   ]
  },
  {
   "attachments": {},
   "cell_type": "markdown",
   "metadata": {},
   "source": [
    "## Pick a random set of scan volumes from the available scan volumes based on the number of computed scan samples for that corresponding split"
   ]
  },
  {
   "cell_type": "code",
   "execution_count": 8,
   "metadata": {},
   "outputs": [],
   "source": [
    "# Training scan volumes\n",
    "train_samples = random.sample(total_scan_volumes, k=train_volumes_count)\n",
    "train_annotations = [k.replace(\"images\", \"labels\") for k in train_samples]\n",
    "\n",
    "# Validation scan volumes\n",
    "available_validation_test_samples = list(set(total_scan_volumes) - set(train_samples))\n",
    "validation_samples = random.sample(available_validation_test_samples, k=validation_volumes_count)\n",
    "validation_annotations = [k.replace(\"images\", \"labels\") for k in validation_samples]\n",
    "\n",
    "# Testing scan volumes\n",
    "test_samples = list(set(total_scan_volumes) - set(train_samples) - set(validation_samples))\n",
    "test_annotations = [k.replace(\"images\", \"labels\") for k in test_samples]"
   ]
  },
  {
   "attachments": {},
   "cell_type": "markdown",
   "metadata": {},
   "source": [
    "## Copy the selected scan volumes to the corresponding directory of the split"
   ]
  },
  {
   "cell_type": "code",
   "execution_count": 34,
   "metadata": {},
   "outputs": [],
   "source": [
    "for volume_scan_samples_path, volume_scan_annotations_path in zip(test_samples, test_annotations):\n",
    "    \n",
    "    volume_sample_paths = glob.glob(volume_scan_samples_path + \"/*.bmp\")\n",
    "    volume_annotation_paths = glob.glob(volume_scan_annotations_path + \"/*.bmp\")\n",
    "    \n",
    "    destination_samples_directory_path = \"../data/test/images/\" + volume_scan_samples_path.split(\"/\")[-1] + \"/\"\n",
    "    destination_annotations_directory_path = \"../data/test/labels/\" + volume_scan_annotations_path.split(\"/\")[-1] + \"/\"\n",
    "        \n",
    "    shutil.move(volume_scan_samples_path, destination_samples_directory_path)\n",
    "    shutil.move(volume_scan_annotations_path, destination_annotations_directory_path)\n",
    "    "
   ]
  }
 ],
 "metadata": {
  "kernelspec": {
   "display_name": "ML-DL",
   "language": "python",
   "name": "python3"
  },
  "language_info": {
   "codemirror_mode": {
    "name": "ipython",
    "version": 3
   },
   "file_extension": ".py",
   "mimetype": "text/x-python",
   "name": "python",
   "nbconvert_exporter": "python",
   "pygments_lexer": "ipython3",
   "version": "3.9.13"
  },
  "orig_nbformat": 4
 },
 "nbformat": 4,
 "nbformat_minor": 2
}
