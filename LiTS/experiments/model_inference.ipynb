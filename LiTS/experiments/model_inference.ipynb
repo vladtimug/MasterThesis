{
 "cells": [
  {
   "cell_type": "code",
   "execution_count": 14,
   "metadata": {},
   "outputs": [],
   "source": [
    "import os\n",
    "import onnx\n",
    "import numpy as np\n",
    "import onnxruntime as ort"
   ]
  },
  {
   "cell_type": "code",
   "execution_count": 12,
   "metadata": {},
   "outputs": [],
   "source": [
    "EXPERIMENT_PATH = \"../experiments_data/set_3/lesion/experiment_6/\"\n",
    "CONFIG_NAME = \"experiment_config.pkl\"\n",
    "MODEL_NAME = \"best_val_dice.onnx\""
   ]
  },
  {
   "cell_type": "code",
   "execution_count": 13,
   "metadata": {},
   "outputs": [],
   "source": [
    "model = onnx.load(os.path.join(EXPERIMENT_PATH, MODEL_NAME))\n",
    "onnx.checker.check_model(model)"
   ]
  },
  {
   "cell_type": "code",
   "execution_count": 15,
   "metadata": {},
   "outputs": [],
   "source": [
    "inference_session = ort.InferenceSession(os.path.join(EXPERIMENT_PATH, MODEL_NAME))"
   ]
  }
 ],
 "metadata": {
  "kernelspec": {
   "display_name": "ML-DL",
   "language": "python",
   "name": "python3"
  },
  "language_info": {
   "codemirror_mode": {
    "name": "ipython",
    "version": 3
   },
   "file_extension": ".py",
   "mimetype": "text/x-python",
   "name": "python",
   "nbconvert_exporter": "python",
   "pygments_lexer": "ipython3",
   "version": "3.9.13"
  },
  "orig_nbformat": 4
 },
 "nbformat": 4,
 "nbformat_minor": 2
}
