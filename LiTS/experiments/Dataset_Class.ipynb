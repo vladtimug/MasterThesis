{
 "cells": [
  {
   "cell_type": "code",
   "execution_count": null,
   "metadata": {},
   "outputs": [],
   "source": [
    "import wandb\n",
    "import torch\n",
    "import matplotlib.pyplot as plt\n",
    "from matplotlib.gridspec import GridSpec\n",
    "from torch.utils.data import Dataset, DataLoader\n",
    "import glob\n",
    "import cv2 as cv\n",
    "import segmentation_models_pytorch as smp\n",
    "from tqdm import tqdm\n",
    "from torchvision import transforms as T\n",
    "import numpy as np"
   ]
  },
  {
   "attachments": {},
   "cell_type": "markdown",
   "metadata": {},
   "source": [
    "## Logging Infrastructure"
   ]
  },
  {
   "cell_type": "code",
   "execution_count": null,
   "metadata": {},
   "outputs": [],
   "source": [
    "wandb.login()"
   ]
  },
  {
   "cell_type": "code",
   "execution_count": null,
   "metadata": {},
   "outputs": [],
   "source": [
    "class WAndBConfig:\n",
    "    DEVICE = \"cuda\" if torch.cuda.is_available() else \"cpu\"\n",
    "    LEARNING_RATE = 1e-3\n",
    "    N_EPOCHS = 10\n",
    "\n",
    "WANDB_CONFIG = {'_wandb_kernel': 'neuracort'}\n",
    "\n",
    "logger_run = wandb.init(\n",
    "    project='LiTS_UNet_e1',\n",
    "    config = WANDB_CONFIG\n",
    ")"
   ]
  },
  {
   "attachments": {},
   "cell_type": "markdown",
   "metadata": {},
   "source": [
    "## LiTS Dataset & DataLoader"
   ]
  },
  {
   "cell_type": "code",
   "execution_count": null,
   "metadata": {},
   "outputs": [],
   "source": [
    "imagenet_mean = np.mean(np.array([0.485, 0.456, 0.406]))\n",
    "imagenet_std = np.mean(np.array([0.229, 0.224, 0.225]))\n",
    "\n",
    "def get_transforms():\n",
    "    return T.Compose([\n",
    "        T.ToTensor(),\n",
    "        T.Normalize(\n",
    "            [imagenet_mean],\n",
    "            [imagenet_std]\n",
    "        )\n",
    "    ])"
   ]
  },
  {
   "cell_type": "code",
   "execution_count": null,
   "metadata": {},
   "outputs": [],
   "source": [
    "class LiTSDataset(Dataset):\n",
    "    \"\"\"\n",
    "    Summary:\n",
    "    ----\n",
    "    Dataset class to retrieve samples from the the LiTS dataset one sample at the time\n",
    "    \"\"\"\n",
    "\n",
    "    def __init__(self, rootDataDirectory:str, datasetSplit:str) -> None:\n",
    "        \"\"\"\n",
    "        Summary:\n",
    "        ----\n",
    "        Prepare access to dataset\n",
    "\n",
    "        Args:\n",
    "        ----\n",
    "            * rootDataDirectory (str): Path to the root directory of the dataset\n",
    "            * datasetSplit (_type_): Type of split to use from the available data. Available options are \"train\", (add more options)\n",
    "        \"\"\"\n",
    "        # Initialize class members from constructor arguments\n",
    "        self.root_data_directory = rootDataDirectory\n",
    "        self.split = datasetSplit\n",
    "        \n",
    "        # Initialize additional class memebers\n",
    "        samples_directory_name = \"images\"\n",
    "        annotations_directory_name = \"labels\"\n",
    "        self.samples_paths = glob.glob(self.root_data_directory + self.split + \"/\" + samples_directory_name + \"/liver*/*.bmp\")\n",
    "        self.annotations_paths = glob.glob(self.root_data_directory + self.split + \"/\" + annotations_directory_name + \"/liver*/*.bmp\")\n",
    "        \n",
    "        self.samples_count = len(self.samples_paths)\n",
    "        self.annotations_count = len(self.annotations_paths)\n",
    "        \n",
    "        if self.samples_count != self.annotations_count:\n",
    "            raise ValueError(\"Different number of files in the samples and annotations directories.\")\n",
    "\n",
    "    def __len__(self) -> int:\n",
    "        \"\"\"\n",
    "        Summary:\n",
    "        ----\n",
    "        Return dataset size\n",
    "\n",
    "        Returns:\n",
    "        ----\n",
    "            * int: Number of available samples in the dataset. Consider the dataset to have an identical number of annotations\n",
    "        \"\"\"\n",
    "        return self.samples_count\n",
    "    \n",
    "    def __getitem__(self, index) -> 'tuple[torch.Tensor, torch.Tensor]':\n",
    "        \"\"\"\n",
    "        Summary:\n",
    "        ----\n",
    "            Return a sample and its corresponding annotation from the dataset\n",
    "\n",
    "        Args:\n",
    "        ----\n",
    "            * index (int): Index of the sample to access from the dataset\n",
    "        \n",
    "        Raises:\n",
    "        ----\n",
    "            * IndexError: Error if passed index is smaller than 0 or bigger than the maximum available number of samples\n",
    "\n",
    "        Returns:\n",
    "        ----\n",
    "            * tuple[torch.Tensor, torch.Tensor]: Tuple containing a dataset sample and its corresponding annotation\n",
    "        \"\"\"\n",
    "\n",
    "        # Check if the index lies within a valid range\n",
    "        if index < 0 or index > self.samples_count - 1:\n",
    "            raise IndexError(f\"Cannot access sample with index {index} because it is outside of the [0, {self.samples_count}) interval.\")\n",
    "\n",
    "        # Read and return sample and annotation from index\n",
    "        sample_path = self.samples_paths[index]\n",
    "        annotation_path = self.annotations_paths[index]\n",
    "\n",
    "        raw_sample = cv.imread(sample_path, cv.IMREAD_UNCHANGED)\n",
    "        raw_annotation = cv.imread(annotation_path, cv.IMREAD_UNCHANGED)\n",
    "\n",
    "        return raw_sample, raw_annotation\n",
    "    \n",
    "    def collate_fn(self, batch):\n",
    "        images, masks = list(zip(*batch))\n",
    "\n",
    "        images = torch.cat([get_transforms()(image.copy()/255.)[None] for image in images]).float().to(WAndBConfig.DEVICE)\n",
    "        masks = torch.cat([torch.Tensor(mask[None]) for mask in masks]).long().to(WAndBConfig.DEVICE)\n",
    "\n",
    "        return images, masks\n",
    "\n",
    "    def get_sample_and_annotation_paths(self, index):\n",
    "        # Check if the index lies within a valid range\n",
    "        if index < 0 or index > self.samples_count - 1:\n",
    "            raise IndexError(f\"Cannot access sample with index {index} because it is outside of the [0, {self.samples_count}) interval.\")\n",
    "\n",
    "        # Read and return sample and annotation from index\n",
    "        sample_path = self.samples_paths[index]\n",
    "        annotation_path = self.annotations_paths[index]\n",
    "        \n",
    "        return sample_path, annotation_path"
   ]
  },
  {
   "cell_type": "code",
   "execution_count": null,
   "metadata": {},
   "outputs": [],
   "source": [
    "train_dataset = LiTSDataset(\n",
    "    rootDataDirectory=\"../data/\",\n",
    "    datasetSplit=\"train\"\n",
    ")\n",
    "\n",
    "validation_dataset = LiTSDataset(\n",
    "    rootDataDirectory=\"../data/\",\n",
    "    datasetSplit=\"validation\"\n",
    ")\n",
    "\n",
    "test_dataset = LiTSDataset(\n",
    "    rootDataDirectory=\"../data/\",\n",
    "    datasetSplit=\"test\"\n",
    ")"
   ]
  },
  {
   "cell_type": "code",
   "execution_count": null,
   "metadata": {},
   "outputs": [],
   "source": [
    "train_dataloader = DataLoader(\n",
    "    train_dataset,\n",
    "    batch_size=4,\n",
    "    shuffle=True,\n",
    "    collate_fn=train_dataset.collate_fn\n",
    ")\n",
    "\n",
    "validation_dataloader = DataLoader(\n",
    "    validation_dataset,\n",
    "    batch_size=1,\n",
    "    shuffle=False,\n",
    "    collate_fn=validation_dataset.collate_fn\n",
    ")\n",
    "\n",
    "test_dataloader = DataLoader(\n",
    "    test_dataset,\n",
    "    batch_size=1,\n",
    "    shuffle=False,\n",
    "    collate_fn=test_dataset.collate_fn\n",
    ")"
   ]
  },
  {
   "cell_type": "code",
   "execution_count": null,
   "metadata": {},
   "outputs": [],
   "source": [
    "train_samples, train_annotations = next(iter(train_dataloader))\n",
    "\n",
    "print(train_samples.shape)\n",
    "print(train_annotations.shape)\n",
    "\n",
    "fig, axs = plt.subplots(1, 2)\n",
    "\n",
    "axs[0].imshow(train_samples[3, 0].cpu(), cmap=\"gray\")\n",
    "axs[1].imshow(train_annotations[3].cpu(), cmap=\"gray\")"
   ]
  },
  {
   "attachments": {},
   "cell_type": "markdown",
   "metadata": {},
   "source": [
    "## Create & Train U-Net"
   ]
  },
  {
   "attachments": {},
   "cell_type": "markdown",
   "metadata": {},
   "source": [
    "### Define Loss function"
   ]
  },
  {
   "cell_type": "code",
   "execution_count": null,
   "metadata": {},
   "outputs": [],
   "source": [
    "loss = torch.nn.CrossEntropyLoss()\n",
    "\n",
    "def UNetLoss(predictions, targets):\n",
    "    batch_loss = loss(predictions, targets)\n",
    "    batch_accuracy = (torch.max(predictions, 1)[1] == targets).float().mean()\n",
    "    return batch_loss, batch_accuracy"
   ]
  },
  {
   "cell_type": "code",
   "execution_count": null,
   "metadata": {},
   "outputs": [],
   "source": [
    "class engine():\n",
    "    def train_batch(model, data, optimizer, criterion):\n",
    "        model.train()\n",
    "\n",
    "        images, annotations = data\n",
    "        predictions = model(images)\n",
    "        optimizer.zero_grad()\n",
    "\n",
    "        loss, accuracy = criterion(predictions, annotations)\n",
    "        loss.backward()\n",
    "        optimizer.step()\n",
    "\n",
    "        return loss.item(), accuracy.item()\n",
    "\n",
    "    @torch.no_grad()\n",
    "    def validate_bacth(model, data, criterion):\n",
    "        model.eval()\n",
    "\n",
    "        images, annotations = data\n",
    "        predictions = model(images)\n",
    "\n",
    "        loss, accuracy = criterion(predictions, annotations)\n",
    "\n",
    "        return loss.item(), accuracy.item()"
   ]
  },
  {
   "attachments": {},
   "cell_type": "markdown",
   "metadata": {},
   "source": [
    "### Define Model "
   ]
  },
  {
   "cell_type": "code",
   "execution_count": null,
   "metadata": {},
   "outputs": [],
   "source": [
    "def make_model():\n",
    "    model = smp.Unet(\n",
    "        encoder_name=\"resnet34\",\n",
    "        encoder_depth=5,\n",
    "        encoder_weights=\"imagenet\",\n",
    "        decoder_use_batchnorm=True,\n",
    "        decoder_channels=[256, 128, 64, 32, 16],\n",
    "        decoder_attention_type=None,\n",
    "        in_channels=1,\n",
    "        classes=3,\n",
    "        activation=None,\n",
    "        aux_params=None\n",
    "    )\n",
    "    model.to(WAndBConfig.DEVICE)\n",
    "    criterion = UNetLoss\n",
    "    optimizer = torch.optim.Adam(model.parameters(), lr=1e-3)\n",
    "\n",
    "    return model, criterion, optimizer\n"
   ]
  },
  {
   "attachments": {},
   "cell_type": "markdown",
   "metadata": {},
   "source": [
    "### Train Model"
   ]
  },
  {
   "cell_type": "code",
   "execution_count": null,
   "metadata": {},
   "outputs": [],
   "source": [
    "model, criterion, optimizer = make_model()\n",
    "\n",
    "for epoch in range(1):\n",
    "    print(\"##\"*20)\n",
    "    print(f\"                Epoch: {epoch}          \")\n",
    "\n",
    "    for _, data in tqdm(enumerate(train_dataloader), total = len(train_dataloader)):\n",
    "        train_loss, train_accuracy = engine.train_batch(model, data, optimizer, criterion)\n",
    "        # print(data[0].shape, data[1].shape)\n",
    "        # break\n",
    "    \n",
    "    for _, data in tqdm(enumerate(validation_dataloader), total = len(validation_dataloader)):\n",
    "        validation_loss, validation_acccuracy = engine.validate_bacth(model, data, criterion)\n",
    "    #     print(data.shape())\n",
    "\n",
    "    wandb.log(\n",
    "          {   \n",
    "              'epoch': epoch,\n",
    "              'train_loss': train_loss,\n",
    "              'train_acc': train_accuracy,\n",
    "              'val_loss': validation_loss,\n",
    "              'val_acc': validation_acccuracy\n",
    "          }\n",
    "      )\n",
    "\n",
    "    \n",
    "    print(\"##\"*20, \"\\n\")"
   ]
  }
 ],
 "metadata": {
  "kernelspec": {
   "display_name": "ML-DL",
   "language": "python",
   "name": "python3"
  },
  "language_info": {
   "codemirror_mode": {
    "name": "ipython",
    "version": 3
   },
   "file_extension": ".py",
   "mimetype": "text/x-python",
   "name": "python",
   "nbconvert_exporter": "python",
   "pygments_lexer": "ipython3",
   "version": "3.9.13"
  },
  "orig_nbformat": 4
 },
 "nbformat": 4,
 "nbformat_minor": 2
}
