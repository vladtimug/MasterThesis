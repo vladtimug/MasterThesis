{
 "cells": [
  {
   "cell_type": "code",
   "execution_count": 1,
   "metadata": {},
   "outputs": [],
   "source": [
    "import os\n",
    "import glob\n",
    "import shutil\n",
    "import nibabel as nib\n",
    "import cv2 as cv"
   ]
  },
  {
   "cell_type": "code",
   "execution_count": 4,
   "metadata": {},
   "outputs": [],
   "source": [
    "obj = nib.load(\"../Task03_Liver/imagesTr/liver_76.nii.gz\")\n",
    "data = obj.get_fdata()\n",
    "destination_dir_path = \"../data/train/images/liver_76/\"\n",
    "os.mkdir(destination_dir_path)\n",
    "for ch in range(data.shape[2]):\n",
    "        slice_path = f\"{destination_dir_path}/slice_{ch}.bmp\"\n",
    "        if not cv.imwrite(slice_path, data[:, :, ch]):\n",
    "            raise Exception(f\"Error occured when writing image on disk at {slice_path}\")"
   ]
  },
  {
   "attachments": {},
   "cell_type": "markdown",
   "metadata": {},
   "source": [
    "### Extract scan slices from all the training scan volumes images and save them as images to the specified location"
   ]
  },
  {
   "cell_type": "code",
   "execution_count": 6,
   "metadata": {},
   "outputs": [],
   "source": [
    "scan_volumes_paths = glob.glob(\"../Task03_Liver/imagesTr/liver*\")\n",
    "for scan_volume_path in scan_volumes_paths:\n",
    "    scan_volume_name = scan_volume_path.split(\"/\")[-1].split(\".\")[0]\n",
    "    destination_dir_path = f\"../data/train/images/{scan_volume_name}\"\n",
    "    volume_obj = nib.load(scan_volume_path)\n",
    "    volume_data = volume_obj.get_fdata()\n",
    "    volume_data.astype(\"uint8\")\n",
    "    if not os.path.exists(destination_dir_path):\n",
    "        os.makedirs(destination_dir_path)\n",
    "    for ch in range(volume_data.shape[2]):\n",
    "        slice_path = f\"{destination_dir_path}/slice_{ch}.bmp\"\n",
    "        if not cv.imwrite(slice_path, volume_data[:, :, ch]):\n",
    "            raise Exception(f\"Error occured when writing image on disk at {slice_path}\")"
   ]
  },
  {
   "attachments": {},
   "cell_type": "markdown",
   "metadata": {},
   "source": [
    "### Extract scan slices from all the training scan volumes labels and save them as images to the specified location"
   ]
  },
  {
   "cell_type": "code",
   "execution_count": 7,
   "metadata": {},
   "outputs": [],
   "source": [
    "scan_volumes_paths = glob.glob(\"../Task03_Liver/labelsTr/liver*\")\n",
    "for scan_volume_path in scan_volumes_paths:\n",
    "    scan_volume_name = scan_volume_path.split(\"/\")[-1].split(\".\")[0]\n",
    "    destination_dir_path = f\"../data/train/labels/{scan_volume_name}\"\n",
    "    volume_obj = nib.load(scan_volume_path)\n",
    "    volume_data = volume_obj.get_fdata()\n",
    "    volume_data.astype(\"uint8\")\n",
    "    if not os.path.exists(destination_dir_path):\n",
    "        os.makedirs(destination_dir_path)\n",
    "    for ch in range(volume_data.shape[2]):\n",
    "        slice_path = f\"{destination_dir_path}/slice_{ch}.bmp\"\n",
    "        if not cv.imwrite(slice_path, volume_data[:, :, ch]):\n",
    "            raise Exception(f\"Error occured when writing image on disk at {slice_path}\")"
   ]
  }
 ],
 "metadata": {
  "kernelspec": {
   "display_name": "ML-DL",
   "language": "python",
   "name": "python3"
  },
  "language_info": {
   "codemirror_mode": {
    "name": "ipython",
    "version": 3
   },
   "file_extension": ".py",
   "mimetype": "text/x-python",
   "name": "python",
   "nbconvert_exporter": "python",
   "pygments_lexer": "ipython3",
   "version": "3.8.10"
  },
  "orig_nbformat": 4
 },
 "nbformat": 4,
 "nbformat_minor": 2
}
